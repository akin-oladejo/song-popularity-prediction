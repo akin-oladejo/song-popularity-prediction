{
  "nbformat": 4,
  "nbformat_minor": 0,
  "metadata": {
    "colab": {
      "name": "popularity_prediction.ipynb",
      "provenance": [],
      "collapsed_sections": [],
      "mount_file_id": "1ejvAhSoqJJ8yUp-K3rEbZAodi1CoSG8E",
      "authorship_tag": "ABX9TyM7J1xHnRbVN/ipRBtPNXAh",
      "include_colab_link": true
    },
    "kernelspec": {
      "display_name": "Python 3",
      "name": "python3"
    }
  },
  "cells": [
    {
      "cell_type": "markdown",
      "metadata": {
        "id": "view-in-github",
        "colab_type": "text"
      },
      "source": [
        "<a href=\"https://colab.research.google.com/github/damilare-akin/song-popularity-prediction/blob/main/popularity_prediction.ipynb\" target=\"_parent\"><img src=\"https://colab.research.google.com/assets/colab-badge.svg\" alt=\"Open In Colab\"/></a>"
      ]
    },
    {
      "cell_type": "markdown",
      "metadata": {
        "id": "DCmHKV7of3st"
      },
      "source": [
        "# Spotify Popularity\n",
        "## Introduction\n",
        "I set out to practise concepts I learned in statistical learning, particularly regression(with decision trees and random forest) and exploratory data analysis. The goal is to **develop a model that predicts the popularity (measured on a scale of 1 to 100) of a track on spotify**.  Along the way I'll ask myself some questions:\n",
        " \n",
        "1. How far back do the tracks in the dataset go?\n",
        "2. What are the most popular songs in the entire dataset (and when were they released)?\n",
        "3. What is the relationship between the other features and the target variable (popularity)?\n",
        " \n",
        "Note:  The dataset used in this project was obtained from [Kaggle](https://www.kaggle.com/yamaerenay/spotify-dataset-19212020-160k-tracks). It consists of 170,653 tracks dating from 1921 to 2020."
      ]
    },
    {
      "cell_type": "code",
      "metadata": {
        "colab": {
          "base_uri": "https://localhost:8080/"
        },
        "id": "-jyXiGwgFzIF",
        "outputId": "88132f28-d17c-4165-d5a8-5ce13b1e3b36"
      },
      "source": [
        "# Setting up\n",
        "%matplotlib inline\n",
        " \n",
        "import numpy as np\n",
        "import pandas as pd\n",
        "from sklearn.model_selection import train_test_split\n",
        "from sklearn.tree import DecisionTreeRegressor\n",
        "from sklearn.ensemble import RandomForestRegressor\n",
        "from sklearn.metrics import mean_absolute_error\n",
        " \n",
        "import matplotlib.pyplot as plt\n",
        "import seaborn as sns\n",
        " \n",
        "print('Imports successful')"
      ],
      "execution_count": null,
      "outputs": [
        {
          "output_type": "stream",
          "text": [
            "Imports successful\n"
          ],
          "name": "stdout"
        }
      ]
    },
    {
      "cell_type": "code",
      "metadata": {
        "id": "K9rIVBk8P4lF"
      },
      "source": [
        "# Comment out this cell. It uses a copy of the dataset in my Google Drive\n",
        "file_path = 'drive/MyDrive/datasets/spotify_tracks.csv'\n",
        "df = pd.read_csv(file_path)"
      ],
      "execution_count": null,
      "outputs": []
    },
    {
      "cell_type": "code",
      "metadata": {
        "id": "5-Nmspljkhq1"
      },
      "source": [
        "# Uncomment this cell to use the copy of the dataset in the root directory\n",
        "# df = pd.read_csv('spotify_tracks.csv')"
      ],
      "execution_count": null,
      "outputs": []
    },
    {
      "cell_type": "code",
      "metadata": {
        "colab": {
          "base_uri": "https://localhost:8080/"
        },
        "id": "5R1I2FONI6hH",
        "outputId": "3af22d82-343f-4439-961d-407668df0065"
      },
      "source": [
        "df.shape"
      ],
      "execution_count": null,
      "outputs": [
        {
          "output_type": "execute_result",
          "data": {
            "text/plain": [
              "(170653, 19)"
            ]
          },
          "metadata": {
            "tags": []
          },
          "execution_count": 4
        }
      ]
    },
    {
      "cell_type": "code",
      "metadata": {
        "colab": {
          "base_uri": "https://localhost:8080/",
          "height": 496
        },
        "id": "xkHfEv9VLgZv",
        "outputId": "582fdede-9819-43d2-da3f-ce47b6044800"
      },
      "source": [
        "df.head()"
      ],
      "execution_count": null,
      "outputs": [
        {
          "output_type": "execute_result",
          "data": {
            "text/html": [
              "<div>\n",
              "<style scoped>\n",
              "    .dataframe tbody tr th:only-of-type {\n",
              "        vertical-align: middle;\n",
              "    }\n",
              "\n",
              "    .dataframe tbody tr th {\n",
              "        vertical-align: top;\n",
              "    }\n",
              "\n",
              "    .dataframe thead th {\n",
              "        text-align: right;\n",
              "    }\n",
              "</style>\n",
              "<table border=\"1\" class=\"dataframe\">\n",
              "  <thead>\n",
              "    <tr style=\"text-align: right;\">\n",
              "      <th></th>\n",
              "      <th>valence</th>\n",
              "      <th>year</th>\n",
              "      <th>acousticness</th>\n",
              "      <th>artists</th>\n",
              "      <th>danceability</th>\n",
              "      <th>duration_ms</th>\n",
              "      <th>energy</th>\n",
              "      <th>explicit</th>\n",
              "      <th>id</th>\n",
              "      <th>instrumentalness</th>\n",
              "      <th>key</th>\n",
              "      <th>liveness</th>\n",
              "      <th>loudness</th>\n",
              "      <th>mode</th>\n",
              "      <th>name</th>\n",
              "      <th>popularity</th>\n",
              "      <th>release_date</th>\n",
              "      <th>speechiness</th>\n",
              "      <th>tempo</th>\n",
              "    </tr>\n",
              "  </thead>\n",
              "  <tbody>\n",
              "    <tr>\n",
              "      <th>0</th>\n",
              "      <td>0.0594</td>\n",
              "      <td>1921</td>\n",
              "      <td>0.982</td>\n",
              "      <td>['Sergei Rachmaninoff', 'James Levine', 'Berli...</td>\n",
              "      <td>0.279</td>\n",
              "      <td>831667</td>\n",
              "      <td>0.211</td>\n",
              "      <td>0</td>\n",
              "      <td>4BJqT0PrAfrxzMOxytFOIz</td>\n",
              "      <td>0.878000</td>\n",
              "      <td>10</td>\n",
              "      <td>0.665</td>\n",
              "      <td>-20.096</td>\n",
              "      <td>1</td>\n",
              "      <td>Piano Concerto No. 3 in D Minor, Op. 30: III. ...</td>\n",
              "      <td>4</td>\n",
              "      <td>1921</td>\n",
              "      <td>0.0366</td>\n",
              "      <td>80.954</td>\n",
              "    </tr>\n",
              "    <tr>\n",
              "      <th>1</th>\n",
              "      <td>0.9630</td>\n",
              "      <td>1921</td>\n",
              "      <td>0.732</td>\n",
              "      <td>['Dennis Day']</td>\n",
              "      <td>0.819</td>\n",
              "      <td>180533</td>\n",
              "      <td>0.341</td>\n",
              "      <td>0</td>\n",
              "      <td>7xPhfUan2yNtyFG0cUWkt8</td>\n",
              "      <td>0.000000</td>\n",
              "      <td>7</td>\n",
              "      <td>0.160</td>\n",
              "      <td>-12.441</td>\n",
              "      <td>1</td>\n",
              "      <td>Clancy Lowered the Boom</td>\n",
              "      <td>5</td>\n",
              "      <td>1921</td>\n",
              "      <td>0.4150</td>\n",
              "      <td>60.936</td>\n",
              "    </tr>\n",
              "    <tr>\n",
              "      <th>2</th>\n",
              "      <td>0.0394</td>\n",
              "      <td>1921</td>\n",
              "      <td>0.961</td>\n",
              "      <td>['KHP Kridhamardawa Karaton Ngayogyakarta Hadi...</td>\n",
              "      <td>0.328</td>\n",
              "      <td>500062</td>\n",
              "      <td>0.166</td>\n",
              "      <td>0</td>\n",
              "      <td>1o6I8BglA6ylDMrIELygv1</td>\n",
              "      <td>0.913000</td>\n",
              "      <td>3</td>\n",
              "      <td>0.101</td>\n",
              "      <td>-14.850</td>\n",
              "      <td>1</td>\n",
              "      <td>Gati Bali</td>\n",
              "      <td>5</td>\n",
              "      <td>1921</td>\n",
              "      <td>0.0339</td>\n",
              "      <td>110.339</td>\n",
              "    </tr>\n",
              "    <tr>\n",
              "      <th>3</th>\n",
              "      <td>0.1650</td>\n",
              "      <td>1921</td>\n",
              "      <td>0.967</td>\n",
              "      <td>['Frank Parker']</td>\n",
              "      <td>0.275</td>\n",
              "      <td>210000</td>\n",
              "      <td>0.309</td>\n",
              "      <td>0</td>\n",
              "      <td>3ftBPsC5vPBKxYSee08FDH</td>\n",
              "      <td>0.000028</td>\n",
              "      <td>5</td>\n",
              "      <td>0.381</td>\n",
              "      <td>-9.316</td>\n",
              "      <td>1</td>\n",
              "      <td>Danny Boy</td>\n",
              "      <td>3</td>\n",
              "      <td>1921</td>\n",
              "      <td>0.0354</td>\n",
              "      <td>100.109</td>\n",
              "    </tr>\n",
              "    <tr>\n",
              "      <th>4</th>\n",
              "      <td>0.2530</td>\n",
              "      <td>1921</td>\n",
              "      <td>0.957</td>\n",
              "      <td>['Phil Regan']</td>\n",
              "      <td>0.418</td>\n",
              "      <td>166693</td>\n",
              "      <td>0.193</td>\n",
              "      <td>0</td>\n",
              "      <td>4d6HGyGT8e121BsdKmw9v6</td>\n",
              "      <td>0.000002</td>\n",
              "      <td>3</td>\n",
              "      <td>0.229</td>\n",
              "      <td>-10.096</td>\n",
              "      <td>1</td>\n",
              "      <td>When Irish Eyes Are Smiling</td>\n",
              "      <td>2</td>\n",
              "      <td>1921</td>\n",
              "      <td>0.0380</td>\n",
              "      <td>101.665</td>\n",
              "    </tr>\n",
              "  </tbody>\n",
              "</table>\n",
              "</div>"
            ],
            "text/plain": [
              "   valence  year  acousticness  ... release_date  speechiness    tempo\n",
              "0   0.0594  1921         0.982  ...         1921       0.0366   80.954\n",
              "1   0.9630  1921         0.732  ...         1921       0.4150   60.936\n",
              "2   0.0394  1921         0.961  ...         1921       0.0339  110.339\n",
              "3   0.1650  1921         0.967  ...         1921       0.0354  100.109\n",
              "4   0.2530  1921         0.957  ...         1921       0.0380  101.665\n",
              "\n",
              "[5 rows x 19 columns]"
            ]
          },
          "metadata": {
            "tags": []
          },
          "execution_count": 5
        }
      ]
    },
    {
      "cell_type": "code",
      "metadata": {
        "colab": {
          "base_uri": "https://localhost:8080/",
          "height": 317
        },
        "id": "vI9pLKtILrF6",
        "outputId": "200f4514-06d0-4623-99ca-c2faf0e7e16b"
      },
      "source": [
        "df.describe()"
      ],
      "execution_count": null,
      "outputs": [
        {
          "output_type": "execute_result",
          "data": {
            "text/html": [
              "<div>\n",
              "<style scoped>\n",
              "    .dataframe tbody tr th:only-of-type {\n",
              "        vertical-align: middle;\n",
              "    }\n",
              "\n",
              "    .dataframe tbody tr th {\n",
              "        vertical-align: top;\n",
              "    }\n",
              "\n",
              "    .dataframe thead th {\n",
              "        text-align: right;\n",
              "    }\n",
              "</style>\n",
              "<table border=\"1\" class=\"dataframe\">\n",
              "  <thead>\n",
              "    <tr style=\"text-align: right;\">\n",
              "      <th></th>\n",
              "      <th>valence</th>\n",
              "      <th>year</th>\n",
              "      <th>acousticness</th>\n",
              "      <th>danceability</th>\n",
              "      <th>duration_ms</th>\n",
              "      <th>energy</th>\n",
              "      <th>explicit</th>\n",
              "      <th>instrumentalness</th>\n",
              "      <th>key</th>\n",
              "      <th>liveness</th>\n",
              "      <th>loudness</th>\n",
              "      <th>mode</th>\n",
              "      <th>popularity</th>\n",
              "      <th>speechiness</th>\n",
              "      <th>tempo</th>\n",
              "    </tr>\n",
              "  </thead>\n",
              "  <tbody>\n",
              "    <tr>\n",
              "      <th>count</th>\n",
              "      <td>170653.000000</td>\n",
              "      <td>170653.000000</td>\n",
              "      <td>170653.000000</td>\n",
              "      <td>170653.000000</td>\n",
              "      <td>1.706530e+05</td>\n",
              "      <td>170653.000000</td>\n",
              "      <td>170653.000000</td>\n",
              "      <td>170653.000000</td>\n",
              "      <td>170653.000000</td>\n",
              "      <td>170653.000000</td>\n",
              "      <td>170653.000000</td>\n",
              "      <td>170653.000000</td>\n",
              "      <td>170653.000000</td>\n",
              "      <td>170653.000000</td>\n",
              "      <td>170653.000000</td>\n",
              "    </tr>\n",
              "    <tr>\n",
              "      <th>mean</th>\n",
              "      <td>0.528587</td>\n",
              "      <td>1976.787241</td>\n",
              "      <td>0.502115</td>\n",
              "      <td>0.537396</td>\n",
              "      <td>2.309483e+05</td>\n",
              "      <td>0.482389</td>\n",
              "      <td>0.084575</td>\n",
              "      <td>0.167010</td>\n",
              "      <td>5.199844</td>\n",
              "      <td>0.205839</td>\n",
              "      <td>-11.467990</td>\n",
              "      <td>0.706902</td>\n",
              "      <td>31.431794</td>\n",
              "      <td>0.098393</td>\n",
              "      <td>116.861590</td>\n",
              "    </tr>\n",
              "    <tr>\n",
              "      <th>std</th>\n",
              "      <td>0.263171</td>\n",
              "      <td>25.917853</td>\n",
              "      <td>0.376032</td>\n",
              "      <td>0.176138</td>\n",
              "      <td>1.261184e+05</td>\n",
              "      <td>0.267646</td>\n",
              "      <td>0.278249</td>\n",
              "      <td>0.313475</td>\n",
              "      <td>3.515094</td>\n",
              "      <td>0.174805</td>\n",
              "      <td>5.697943</td>\n",
              "      <td>0.455184</td>\n",
              "      <td>21.826615</td>\n",
              "      <td>0.162740</td>\n",
              "      <td>30.708533</td>\n",
              "    </tr>\n",
              "    <tr>\n",
              "      <th>min</th>\n",
              "      <td>0.000000</td>\n",
              "      <td>1921.000000</td>\n",
              "      <td>0.000000</td>\n",
              "      <td>0.000000</td>\n",
              "      <td>5.108000e+03</td>\n",
              "      <td>0.000000</td>\n",
              "      <td>0.000000</td>\n",
              "      <td>0.000000</td>\n",
              "      <td>0.000000</td>\n",
              "      <td>0.000000</td>\n",
              "      <td>-60.000000</td>\n",
              "      <td>0.000000</td>\n",
              "      <td>0.000000</td>\n",
              "      <td>0.000000</td>\n",
              "      <td>0.000000</td>\n",
              "    </tr>\n",
              "    <tr>\n",
              "      <th>25%</th>\n",
              "      <td>0.317000</td>\n",
              "      <td>1956.000000</td>\n",
              "      <td>0.102000</td>\n",
              "      <td>0.415000</td>\n",
              "      <td>1.698270e+05</td>\n",
              "      <td>0.255000</td>\n",
              "      <td>0.000000</td>\n",
              "      <td>0.000000</td>\n",
              "      <td>2.000000</td>\n",
              "      <td>0.098800</td>\n",
              "      <td>-14.615000</td>\n",
              "      <td>0.000000</td>\n",
              "      <td>11.000000</td>\n",
              "      <td>0.034900</td>\n",
              "      <td>93.421000</td>\n",
              "    </tr>\n",
              "    <tr>\n",
              "      <th>50%</th>\n",
              "      <td>0.540000</td>\n",
              "      <td>1977.000000</td>\n",
              "      <td>0.516000</td>\n",
              "      <td>0.548000</td>\n",
              "      <td>2.074670e+05</td>\n",
              "      <td>0.471000</td>\n",
              "      <td>0.000000</td>\n",
              "      <td>0.000216</td>\n",
              "      <td>5.000000</td>\n",
              "      <td>0.136000</td>\n",
              "      <td>-10.580000</td>\n",
              "      <td>1.000000</td>\n",
              "      <td>33.000000</td>\n",
              "      <td>0.045000</td>\n",
              "      <td>114.729000</td>\n",
              "    </tr>\n",
              "    <tr>\n",
              "      <th>75%</th>\n",
              "      <td>0.747000</td>\n",
              "      <td>1999.000000</td>\n",
              "      <td>0.893000</td>\n",
              "      <td>0.668000</td>\n",
              "      <td>2.624000e+05</td>\n",
              "      <td>0.703000</td>\n",
              "      <td>0.000000</td>\n",
              "      <td>0.102000</td>\n",
              "      <td>8.000000</td>\n",
              "      <td>0.261000</td>\n",
              "      <td>-7.183000</td>\n",
              "      <td>1.000000</td>\n",
              "      <td>48.000000</td>\n",
              "      <td>0.075600</td>\n",
              "      <td>135.537000</td>\n",
              "    </tr>\n",
              "    <tr>\n",
              "      <th>max</th>\n",
              "      <td>1.000000</td>\n",
              "      <td>2020.000000</td>\n",
              "      <td>0.996000</td>\n",
              "      <td>0.988000</td>\n",
              "      <td>5.403500e+06</td>\n",
              "      <td>1.000000</td>\n",
              "      <td>1.000000</td>\n",
              "      <td>1.000000</td>\n",
              "      <td>11.000000</td>\n",
              "      <td>1.000000</td>\n",
              "      <td>3.855000</td>\n",
              "      <td>1.000000</td>\n",
              "      <td>100.000000</td>\n",
              "      <td>0.970000</td>\n",
              "      <td>243.507000</td>\n",
              "    </tr>\n",
              "  </tbody>\n",
              "</table>\n",
              "</div>"
            ],
            "text/plain": [
              "             valence           year  ...    speechiness          tempo\n",
              "count  170653.000000  170653.000000  ...  170653.000000  170653.000000\n",
              "mean        0.528587    1976.787241  ...       0.098393     116.861590\n",
              "std         0.263171      25.917853  ...       0.162740      30.708533\n",
              "min         0.000000    1921.000000  ...       0.000000       0.000000\n",
              "25%         0.317000    1956.000000  ...       0.034900      93.421000\n",
              "50%         0.540000    1977.000000  ...       0.045000     114.729000\n",
              "75%         0.747000    1999.000000  ...       0.075600     135.537000\n",
              "max         1.000000    2020.000000  ...       0.970000     243.507000\n",
              "\n",
              "[8 rows x 15 columns]"
            ]
          },
          "metadata": {
            "tags": []
          },
          "execution_count": 6
        }
      ]
    },
    {
      "cell_type": "code",
      "metadata": {
        "colab": {
          "base_uri": "https://localhost:8080/"
        },
        "id": "lk0Yz16qN_4J",
        "outputId": "778be038-9c08-4909-f85a-80a9fcacae41"
      },
      "source": [
        "df.info()"
      ],
      "execution_count": null,
      "outputs": [
        {
          "output_type": "stream",
          "text": [
            "<class 'pandas.core.frame.DataFrame'>\n",
            "RangeIndex: 170653 entries, 0 to 170652\n",
            "Data columns (total 19 columns):\n",
            " #   Column            Non-Null Count   Dtype  \n",
            "---  ------            --------------   -----  \n",
            " 0   valence           170653 non-null  float64\n",
            " 1   year              170653 non-null  int64  \n",
            " 2   acousticness      170653 non-null  float64\n",
            " 3   artists           170653 non-null  object \n",
            " 4   danceability      170653 non-null  float64\n",
            " 5   duration_ms       170653 non-null  int64  \n",
            " 6   energy            170653 non-null  float64\n",
            " 7   explicit          170653 non-null  int64  \n",
            " 8   id                170653 non-null  object \n",
            " 9   instrumentalness  170653 non-null  float64\n",
            " 10  key               170653 non-null  int64  \n",
            " 11  liveness          170653 non-null  float64\n",
            " 12  loudness          170653 non-null  float64\n",
            " 13  mode              170653 non-null  int64  \n",
            " 14  name              170653 non-null  object \n",
            " 15  popularity        170653 non-null  int64  \n",
            " 16  release_date      170653 non-null  object \n",
            " 17  speechiness       170653 non-null  float64\n",
            " 18  tempo             170653 non-null  float64\n",
            "dtypes: float64(9), int64(6), object(4)\n",
            "memory usage: 24.7+ MB\n"
          ],
          "name": "stdout"
        }
      ]
    },
    {
      "cell_type": "markdown",
      "metadata": {
        "id": "QwzCJMU4RLfg"
      },
      "source": [
        "\n",
        "-----------------\n",
        "## Questions I want answered from the data"
      ]
    },
    {
      "cell_type": "markdown",
      "metadata": {
        "id": "XJtzr7wV4ydN"
      },
      "source": [
        "### How far back do the tracks go?"
      ]
    },
    {
      "cell_type": "code",
      "metadata": {
        "colab": {
          "base_uri": "https://localhost:8080/"
        },
        "id": "zaPJp0dF1sXq",
        "outputId": "f7e27c78-4b26-47b3-8f62-824ffba70981"
      },
      "source": [
        "oldest_year = df['release_date'].min()\r\n",
        "print(f'The oldest year in this dataset is {oldest_year}.')"
      ],
      "execution_count": null,
      "outputs": [
        {
          "output_type": "stream",
          "text": [
            "The oldest year in this dataset is 1921.\n"
          ],
          "name": "stdout"
        }
      ]
    },
    {
      "cell_type": "markdown",
      "metadata": {
        "id": "SW1NB3nE468d"
      },
      "source": [
        "### What are the most popular tracks in the entire dataset when it was sourced (and when were they released)?"
      ]
    },
    {
      "cell_type": "code",
      "metadata": {
        "colab": {
          "base_uri": "https://localhost:8080/",
          "height": 359
        },
        "id": "hMB-BcsHzimS",
        "outputId": "fb7eb83c-e721-4c2f-95ac-d14697b96eb6"
      },
      "source": [
        "most_popular = df[['artists','year','name', 'release_date', 'popularity']]\r\n",
        "most_popular = most_popular.sort_values(by=['popularity', 'name'], ascending=[False, True])\r\n",
        "most_popular.artists = most_popular.artists.str.strip('[]').str.replace(\"'\", \"\")\r\n",
        "most_popular.head(10)"
      ],
      "execution_count": null,
      "outputs": [
        {
          "output_type": "execute_result",
          "data": {
            "text/html": [
              "<div>\n",
              "<style scoped>\n",
              "    .dataframe tbody tr th:only-of-type {\n",
              "        vertical-align: middle;\n",
              "    }\n",
              "\n",
              "    .dataframe tbody tr th {\n",
              "        vertical-align: top;\n",
              "    }\n",
              "\n",
              "    .dataframe thead th {\n",
              "        text-align: right;\n",
              "    }\n",
              "</style>\n",
              "<table border=\"1\" class=\"dataframe\">\n",
              "  <thead>\n",
              "    <tr style=\"text-align: right;\">\n",
              "      <th></th>\n",
              "      <th>artists</th>\n",
              "      <th>year</th>\n",
              "      <th>name</th>\n",
              "      <th>release_date</th>\n",
              "      <th>popularity</th>\n",
              "    </tr>\n",
              "  </thead>\n",
              "  <tbody>\n",
              "    <tr>\n",
              "      <th>19611</th>\n",
              "      <td>Bad Bunny, Jhay Cortez</td>\n",
              "      <td>2020</td>\n",
              "      <td>Dakiti</td>\n",
              "      <td>2020-10-30</td>\n",
              "      <td>100</td>\n",
              "    </tr>\n",
              "    <tr>\n",
              "      <th>19606</th>\n",
              "      <td>24kGoldn, iann dior</td>\n",
              "      <td>2020</td>\n",
              "      <td>Mood (feat. iann dior)</td>\n",
              "      <td>2020-07-24</td>\n",
              "      <td>99</td>\n",
              "    </tr>\n",
              "    <tr>\n",
              "      <th>19618</th>\n",
              "      <td>BTS</td>\n",
              "      <td>2020</td>\n",
              "      <td>Dynamite</td>\n",
              "      <td>2020-08-28</td>\n",
              "      <td>97</td>\n",
              "    </tr>\n",
              "    <tr>\n",
              "      <th>19616</th>\n",
              "      <td>The Weeknd</td>\n",
              "      <td>2020</td>\n",
              "      <td>Blinding Lights</td>\n",
              "      <td>2020-03-20</td>\n",
              "      <td>96</td>\n",
              "    </tr>\n",
              "    <tr>\n",
              "      <th>19608</th>\n",
              "      <td>Cardi B, Megan Thee Stallion</td>\n",
              "      <td>2020</td>\n",
              "      <td>WAP (feat. Megan Thee Stallion)</td>\n",
              "      <td>2020-08-07</td>\n",
              "      <td>96</td>\n",
              "    </tr>\n",
              "    <tr>\n",
              "      <th>19612</th>\n",
              "      <td>Pop Smoke</td>\n",
              "      <td>2020</td>\n",
              "      <td>What You Know Bout Love</td>\n",
              "      <td>2020-07-03</td>\n",
              "      <td>96</td>\n",
              "    </tr>\n",
              "    <tr>\n",
              "      <th>19610</th>\n",
              "      <td>Ariana Grande</td>\n",
              "      <td>2020</td>\n",
              "      <td>positions</td>\n",
              "      <td>2020-10-30</td>\n",
              "      <td>96</td>\n",
              "    </tr>\n",
              "    <tr>\n",
              "      <th>19607</th>\n",
              "      <td>Pop Smoke, Lil Baby, DaBaby</td>\n",
              "      <td>2020</td>\n",
              "      <td>For The Night (feat. Lil Baby &amp; DaBaby)</td>\n",
              "      <td>2020-07-03</td>\n",
              "      <td>95</td>\n",
              "    </tr>\n",
              "    <tr>\n",
              "      <th>19615</th>\n",
              "      <td>Justin Bieber, Chance the Rapper</td>\n",
              "      <td>2020</td>\n",
              "      <td>Holy (feat. Chance The Rapper)</td>\n",
              "      <td>2020-09-18</td>\n",
              "      <td>95</td>\n",
              "    </tr>\n",
              "    <tr>\n",
              "      <th>19620</th>\n",
              "      <td>Justin Bieber, benny blanco</td>\n",
              "      <td>2020</td>\n",
              "      <td>Lonely (with benny blanco)</td>\n",
              "      <td>2020-10-16</td>\n",
              "      <td>95</td>\n",
              "    </tr>\n",
              "  </tbody>\n",
              "</table>\n",
              "</div>"
            ],
            "text/plain": [
              "                                artists  year  ... release_date popularity\n",
              "19611            Bad Bunny, Jhay Cortez  2020  ...   2020-10-30        100\n",
              "19606               24kGoldn, iann dior  2020  ...   2020-07-24         99\n",
              "19618                               BTS  2020  ...   2020-08-28         97\n",
              "19616                        The Weeknd  2020  ...   2020-03-20         96\n",
              "19608      Cardi B, Megan Thee Stallion  2020  ...   2020-08-07         96\n",
              "19612                         Pop Smoke  2020  ...   2020-07-03         96\n",
              "19610                     Ariana Grande  2020  ...   2020-10-30         96\n",
              "19607       Pop Smoke, Lil Baby, DaBaby  2020  ...   2020-07-03         95\n",
              "19615  Justin Bieber, Chance the Rapper  2020  ...   2020-09-18         95\n",
              "19620       Justin Bieber, benny blanco  2020  ...   2020-10-16         95\n",
              "\n",
              "[10 rows x 5 columns]"
            ]
          },
          "metadata": {
            "tags": []
          },
          "execution_count": 9
        }
      ]
    },
    {
      "cell_type": "code",
      "metadata": {
        "colab": {
          "base_uri": "https://localhost:8080/",
          "height": 128
        },
        "id": "fa6y65yNMLSH",
        "outputId": "72c50e4a-9d8a-415a-abab-7b2f8d87c9b0"
      },
      "source": [
        "# Remove non-numeric columns, that I may begin numerical analysis:\r\n",
        "df.drop(['artists', 'id', 'name', 'release_date'], axis=1, inplace=True)\r\n",
        "print(df.shape)\r\n",
        "df.head(2)"
      ],
      "execution_count": null,
      "outputs": [
        {
          "output_type": "stream",
          "text": [
            "(170653, 15)\n"
          ],
          "name": "stdout"
        },
        {
          "output_type": "execute_result",
          "data": {
            "text/html": [
              "<div>\n",
              "<style scoped>\n",
              "    .dataframe tbody tr th:only-of-type {\n",
              "        vertical-align: middle;\n",
              "    }\n",
              "\n",
              "    .dataframe tbody tr th {\n",
              "        vertical-align: top;\n",
              "    }\n",
              "\n",
              "    .dataframe thead th {\n",
              "        text-align: right;\n",
              "    }\n",
              "</style>\n",
              "<table border=\"1\" class=\"dataframe\">\n",
              "  <thead>\n",
              "    <tr style=\"text-align: right;\">\n",
              "      <th></th>\n",
              "      <th>valence</th>\n",
              "      <th>year</th>\n",
              "      <th>acousticness</th>\n",
              "      <th>danceability</th>\n",
              "      <th>duration_ms</th>\n",
              "      <th>energy</th>\n",
              "      <th>explicit</th>\n",
              "      <th>instrumentalness</th>\n",
              "      <th>key</th>\n",
              "      <th>liveness</th>\n",
              "      <th>loudness</th>\n",
              "      <th>mode</th>\n",
              "      <th>popularity</th>\n",
              "      <th>speechiness</th>\n",
              "      <th>tempo</th>\n",
              "    </tr>\n",
              "  </thead>\n",
              "  <tbody>\n",
              "    <tr>\n",
              "      <th>0</th>\n",
              "      <td>0.0594</td>\n",
              "      <td>1921</td>\n",
              "      <td>0.982</td>\n",
              "      <td>0.279</td>\n",
              "      <td>831667</td>\n",
              "      <td>0.211</td>\n",
              "      <td>0</td>\n",
              "      <td>0.878</td>\n",
              "      <td>10</td>\n",
              "      <td>0.665</td>\n",
              "      <td>-20.096</td>\n",
              "      <td>1</td>\n",
              "      <td>4</td>\n",
              "      <td>0.0366</td>\n",
              "      <td>80.954</td>\n",
              "    </tr>\n",
              "    <tr>\n",
              "      <th>1</th>\n",
              "      <td>0.9630</td>\n",
              "      <td>1921</td>\n",
              "      <td>0.732</td>\n",
              "      <td>0.819</td>\n",
              "      <td>180533</td>\n",
              "      <td>0.341</td>\n",
              "      <td>0</td>\n",
              "      <td>0.000</td>\n",
              "      <td>7</td>\n",
              "      <td>0.160</td>\n",
              "      <td>-12.441</td>\n",
              "      <td>1</td>\n",
              "      <td>5</td>\n",
              "      <td>0.4150</td>\n",
              "      <td>60.936</td>\n",
              "    </tr>\n",
              "  </tbody>\n",
              "</table>\n",
              "</div>"
            ],
            "text/plain": [
              "   valence  year  acousticness  ...  popularity  speechiness   tempo\n",
              "0   0.0594  1921         0.982  ...           4       0.0366  80.954\n",
              "1   0.9630  1921         0.732  ...           5       0.4150  60.936\n",
              "\n",
              "[2 rows x 15 columns]"
            ]
          },
          "metadata": {
            "tags": []
          },
          "execution_count": 10
        }
      ]
    },
    {
      "cell_type": "markdown",
      "metadata": {
        "id": "N40MWxXASCgd"
      },
      "source": [
        "### What is the correlation between the other features and the target variable (popularity)?"
      ]
    },
    {
      "cell_type": "code",
      "metadata": {
        "colab": {
          "base_uri": "https://localhost:8080/",
          "height": 346
        },
        "id": "L7odVoz-NZe4",
        "outputId": "0e3776af-5acd-4774-b047-bf6d02acd311"
      },
      "source": [
        "sns.heatmap(df.corr(), cmap='icefire');"
      ],
      "execution_count": null,
      "outputs": [
        {
          "output_type": "display_data",
          "data": {
            "image/png": "[encoded data removed]",
            "text/plain": [
              "<Figure size 432x288 with 2 Axes>"
            ]
          },
          "metadata": {
            "tags": [],
            "needs_background": "light"
          }
        }
      ]
    },
    {
      "cell_type": "code",
      "metadata": {
        "colab": {
          "base_uri": "https://localhost:8080/"
        },
        "id": "NTGIbociTJ2a",
        "outputId": "3e3384a5-0e15-4d1c-bc67-5f24653e5988"
      },
      "source": [
        "df.corr()['popularity'].sort_values(ascending=False)"
      ],
      "execution_count": null,
      "outputs": [
        {
          "output_type": "execute_result",
          "data": {
            "text/plain": [
              "popularity          1.000000\n",
              "year                0.862442\n",
              "energy              0.485005\n",
              "loudness            0.457051\n",
              "danceability        0.199606\n",
              "explicit            0.191543\n",
              "tempo               0.133310\n",
              "duration_ms         0.059597\n",
              "valence             0.014200\n",
              "key                 0.007826\n",
              "mode               -0.028897\n",
              "liveness           -0.076464\n",
              "speechiness        -0.171979\n",
              "instrumentalness   -0.296750\n",
              "acousticness       -0.573162\n",
              "Name: popularity, dtype: float64"
            ]
          },
          "metadata": {
            "tags": []
          },
          "execution_count": 12
        }
      ]
    },
    {
      "cell_type": "code",
      "metadata": {
        "colab": {
          "base_uri": "https://localhost:8080/",
          "height": 495
        },
        "id": "P3nozpgYOY8C",
        "outputId": "04da93c9-c4e9-49a7-a218-9a9381157892"
      },
      "source": [
        "# Set the target variable\n",
        "y = df.popularity\n",
        " \n",
        "fig,axs = plt.subplots(2,1, figsize=(7,7))\n",
        "fig.suptitle('Observations of popularity')\n",
        " \n",
        "# Observe the distribution of 'popularity'axs[0].set_title('Distribution of popularity')\n",
        "axs[0].set_title('Distribution of popularity')\n",
        "sns.histplot(x='popularity', data=df, ax=axs[0])\n",
        " \n",
        "axs[1].set_title('Relationship between popularity and year')\n",
        "sns.lineplot(x='year', y='popularity', data=df, ax=axs[1])\n",
        " \n",
        "fig.tight_layout(pad=3.0)"
      ],
      "execution_count": null,
      "outputs": [
        {
          "output_type": "display_data",
          "data": {
            "image/png": "[encoded data removed]",
            "text/plain": [
              "<Figure size 504x504 with 2 Axes>"
            ]
          },
          "metadata": {
            "tags": [],
            "needs_background": "light"
          }
        }
      ]
    },
    {
      "cell_type": "markdown",
      "metadata": {
        "id": "kDBTIrxJvCuH"
      },
      "source": [
        "Note: The Spotify API documentation states  that [popularity is calculated with respect to the current year](https://developer.spotify.com/documentation/web-api/reference/#objects-index). Hence, the rise in popularity as the years go by does not mean tracks were not popular in their time; they just are not as  popular **now**.  \n",
        "> The popularity is calculated by algorithm and is based, in the most part, on the total number of plays the track has had and how recent those plays are.\n",
        "Generally speaking, songs that are being played a lot now will have a higher popularity than songs that were played a lot in the past."
      ]
    },
    {
      "cell_type": "code",
      "metadata": {
        "colab": {
          "base_uri": "https://localhost:8080/",
          "height": 204
        },
        "id": "UQzsg7XhRjGM",
        "outputId": "d8d5ac97-fe9a-402b-df80-50c275e5d931"
      },
      "source": [
        "# Set the predictor variables\n",
        "features = ['valence', 'acousticness', 'danceability',\n",
        "       'duration_ms', 'energy', 'explicit', 'year', 'instrumentalness', 'key',\n",
        "       'liveness', 'loudness', 'mode', 'speechiness', 'tempo']\n",
        "\n",
        "X = df[features]\n",
        "X.head()"
      ],
      "execution_count": null,
      "outputs": [
        {
          "output_type": "execute_result",
          "data": {
            "text/html": [
              "<div>\n",
              "<style scoped>\n",
              "    .dataframe tbody tr th:only-of-type {\n",
              "        vertical-align: middle;\n",
              "    }\n",
              "\n",
              "    .dataframe tbody tr th {\n",
              "        vertical-align: top;\n",
              "    }\n",
              "\n",
              "    .dataframe thead th {\n",
              "        text-align: right;\n",
              "    }\n",
              "</style>\n",
              "<table border=\"1\" class=\"dataframe\">\n",
              "  <thead>\n",
              "    <tr style=\"text-align: right;\">\n",
              "      <th></th>\n",
              "      <th>valence</th>\n",
              "      <th>acousticness</th>\n",
              "      <th>danceability</th>\n",
              "      <th>duration_ms</th>\n",
              "      <th>energy</th>\n",
              "      <th>explicit</th>\n",
              "      <th>year</th>\n",
              "      <th>instrumentalness</th>\n",
              "      <th>key</th>\n",
              "      <th>liveness</th>\n",
              "      <th>loudness</th>\n",
              "      <th>mode</th>\n",
              "      <th>speechiness</th>\n",
              "      <th>tempo</th>\n",
              "    </tr>\n",
              "  </thead>\n",
              "  <tbody>\n",
              "    <tr>\n",
              "      <th>0</th>\n",
              "      <td>0.0594</td>\n",
              "      <td>0.982</td>\n",
              "      <td>0.279</td>\n",
              "      <td>831667</td>\n",
              "      <td>0.211</td>\n",
              "      <td>0</td>\n",
              "      <td>1921</td>\n",
              "      <td>0.878000</td>\n",
              "      <td>10</td>\n",
              "      <td>0.665</td>\n",
              "      <td>-20.096</td>\n",
              "      <td>1</td>\n",
              "      <td>0.0366</td>\n",
              "      <td>80.954</td>\n",
              "    </tr>\n",
              "    <tr>\n",
              "      <th>1</th>\n",
              "      <td>0.9630</td>\n",
              "      <td>0.732</td>\n",
              "      <td>0.819</td>\n",
              "      <td>180533</td>\n",
              "      <td>0.341</td>\n",
              "      <td>0</td>\n",
              "      <td>1921</td>\n",
              "      <td>0.000000</td>\n",
              "      <td>7</td>\n",
              "      <td>0.160</td>\n",
              "      <td>-12.441</td>\n",
              "      <td>1</td>\n",
              "      <td>0.4150</td>\n",
              "      <td>60.936</td>\n",
              "    </tr>\n",
              "    <tr>\n",
              "      <th>2</th>\n",
              "      <td>0.0394</td>\n",
              "      <td>0.961</td>\n",
              "      <td>0.328</td>\n",
              "      <td>500062</td>\n",
              "      <td>0.166</td>\n",
              "      <td>0</td>\n",
              "      <td>1921</td>\n",
              "      <td>0.913000</td>\n",
              "      <td>3</td>\n",
              "      <td>0.101</td>\n",
              "      <td>-14.850</td>\n",
              "      <td>1</td>\n",
              "      <td>0.0339</td>\n",
              "      <td>110.339</td>\n",
              "    </tr>\n",
              "    <tr>\n",
              "      <th>3</th>\n",
              "      <td>0.1650</td>\n",
              "      <td>0.967</td>\n",
              "      <td>0.275</td>\n",
              "      <td>210000</td>\n",
              "      <td>0.309</td>\n",
              "      <td>0</td>\n",
              "      <td>1921</td>\n",
              "      <td>0.000028</td>\n",
              "      <td>5</td>\n",
              "      <td>0.381</td>\n",
              "      <td>-9.316</td>\n",
              "      <td>1</td>\n",
              "      <td>0.0354</td>\n",
              "      <td>100.109</td>\n",
              "    </tr>\n",
              "    <tr>\n",
              "      <th>4</th>\n",
              "      <td>0.2530</td>\n",
              "      <td>0.957</td>\n",
              "      <td>0.418</td>\n",
              "      <td>166693</td>\n",
              "      <td>0.193</td>\n",
              "      <td>0</td>\n",
              "      <td>1921</td>\n",
              "      <td>0.000002</td>\n",
              "      <td>3</td>\n",
              "      <td>0.229</td>\n",
              "      <td>-10.096</td>\n",
              "      <td>1</td>\n",
              "      <td>0.0380</td>\n",
              "      <td>101.665</td>\n",
              "    </tr>\n",
              "  </tbody>\n",
              "</table>\n",
              "</div>"
            ],
            "text/plain": [
              "   valence  acousticness  danceability  ...  mode  speechiness    tempo\n",
              "0   0.0594         0.982         0.279  ...     1       0.0366   80.954\n",
              "1   0.9630         0.732         0.819  ...     1       0.4150   60.936\n",
              "2   0.0394         0.961         0.328  ...     1       0.0339  110.339\n",
              "3   0.1650         0.967         0.275  ...     1       0.0354  100.109\n",
              "4   0.2530         0.957         0.418  ...     1       0.0380  101.665\n",
              "\n",
              "[5 rows x 14 columns]"
            ]
          },
          "metadata": {
            "tags": []
          },
          "execution_count": 14
        }
      ]
    },
    {
      "cell_type": "code",
      "metadata": {
        "colab": {
          "base_uri": "https://localhost:8080/",
          "height": 1000
        },
        "id": "ivpVag4u22Cc",
        "outputId": "fb5b6a4a-8848-438d-94af-6f25c7800460"
      },
      "source": [
        "#create a 4 by 4 grid of subplots\n",
        "fig, axs = plt.subplots(4, 4, sharey=True, figsize=(15,15))\n",
        "fig.suptitle('Correlation of several features with popularity', y=1.01)\n",
        " \n",
        "#I only need 14 subplots (there are 14 features), might as well remove the last three subplots\n",
        "fig.delaxes(axs[3][2])\n",
        "fig.delaxes(axs[3][3])\n",
        " \n",
        "#I need to be able to loop through each subplot, so I make a 1-d array I can loop through easily. \n",
        "#I also exclude the deleted axes\n",
        "loopable_axs = axs.reshape(-1)[:-2]\n",
        " \n",
        "for n in range(len(loopable_axs)):\n",
        "  loopable_axs[n].set_title(f'{features[n]} against popularity')\n",
        "  sns.regplot(ax=loopable_axs[n], x=features[n], y='popularity', data=df, line_kws={'color':'orange'})\n",
        " \n",
        "fig.tight_layout(pad=2.0)"
      ],
      "execution_count": null,
      "outputs": [
        {
          "output_type": "display_data",
          "data": {
            "image/png": "[encoded data removed]",
            "text/plain": [
              "<Figure size 1080x1080 with 14 Axes>"
            ]
          },
          "metadata": {
            "tags": [],
            "needs_background": "light"
          }
        }
      ]
    },
    {
      "cell_type": "markdown",
      "metadata": {
        "id": "NYZLMEGzUO6L"
      },
      "source": [
        "\n",
        "------\n",
        "## Predicting Popularity"
      ]
    },
    {
      "cell_type": "markdown",
      "metadata": {
        "id": "ij5qMdor0cS4"
      },
      "source": [
        "### What features are the most important to our model?"
      ]
    },
    {
      "cell_type": "code",
      "metadata": {
        "id": "SjF9dFJc4zPB"
      },
      "source": [
        "train_X, test_X, train_y, test_y = train_test_split(X,y, test_size= 0.1, random_state=0)"
      ],
      "execution_count": null,
      "outputs": []
    },
    {
      "cell_type": "markdown",
      "metadata": {
        "id": "6f-mH112ChQ5"
      },
      "source": [
        " The next two code cells are simply to perform one task: visualize feature importances when predicting song popularity. To do this, I use the `yellowbrick`  library. The first cell simply updates the library so I can use the `FeatureImportances` module."
      ]
    },
    {
      "cell_type": "code",
      "metadata": {
        "colab": {
          "base_uri": "https://localhost:8080/"
        },
        "id": "c3GGYX42O6Bb",
        "outputId": "86227ae7-ef53-4886-f0ea-a93fdfe80773"
      },
      "source": [
        " \n",
        "# Update the yellowbrick module\n",
        "!pip install yellowbrick --upgrade"
      ],
      "execution_count": null,
      "outputs": [
        {
          "output_type": "stream",
          "text": [
            "Collecting yellowbrick\n",
            "\u001b[?25l  Downloading https://files.pythonhosted.org/packages/b1/bb/57fd86c319a43666fe447bb1bc5af66fb0eb89dc4efc305a7544d50f52d6/yellowbrick-1.2.1-py3-none-any.whl (269kB)\n",
            "\r\u001b[K     |█▏                              | 10kB 16.4MB/s eta 0:00:01\r\u001b[K     |██▍                             | 20kB 10.3MB/s eta 0:00:01\r\u001b[K     |███▋                            | 30kB 8.5MB/s eta 0:00:01\r\u001b[K     |████▉                           | 40kB 6.8MB/s eta 0:00:01\r\u001b[K     |██████                          | 51kB 4.1MB/s eta 0:00:01\r\u001b[K     |███████▎                        | 61kB 4.8MB/s eta 0:00:01\r\u001b[K     |████████▌                       | 71kB 4.9MB/s eta 0:00:01\r\u001b[K     |█████████▊                      | 81kB 5.1MB/s eta 0:00:01\r\u001b[K     |███████████                     | 92kB 5.5MB/s eta 0:00:01\r\u001b[K     |████████████▏                   | 102kB 5.3MB/s eta 0:00:01\r\u001b[K     |█████████████▍                  | 112kB 5.3MB/s eta 0:00:01\r\u001b[K     |██████████████▋                 | 122kB 5.3MB/s eta 0:00:01\r\u001b[K     |███████████████▉                | 133kB 5.3MB/s eta 0:00:01\r\u001b[K     |█████████████████               | 143kB 5.3MB/s eta 0:00:01\r\u001b[K     |██████████████████▎             | 153kB 5.3MB/s eta 0:00:01\r\u001b[K     |███████████████████▌            | 163kB 5.3MB/s eta 0:00:01\r\u001b[K     |████████████████████▊           | 174kB 5.3MB/s eta 0:00:01\r\u001b[K     |█████████████████████▉          | 184kB 5.3MB/s eta 0:00:01\r\u001b[K     |███████████████████████         | 194kB 5.3MB/s eta 0:00:01\r\u001b[K     |████████████████████████▎       | 204kB 5.3MB/s eta 0:00:01\r\u001b[K     |█████████████████████████▌      | 215kB 5.3MB/s eta 0:00:01\r\u001b[K     |██████████████████████████▊     | 225kB 5.3MB/s eta 0:00:01\r\u001b[K     |████████████████████████████    | 235kB 5.3MB/s eta 0:00:01\r\u001b[K     |█████████████████████████████▏  | 245kB 5.3MB/s eta 0:00:01\r\u001b[K     |██████████████████████████████▍ | 256kB 5.3MB/s eta 0:00:01\r\u001b[K     |███████████████████████████████▋| 266kB 5.3MB/s eta 0:00:01\r\u001b[K     |████████████████████████████████| 276kB 5.3MB/s \n",
            "\u001b[?25hRequirement already satisfied, skipping upgrade: numpy>=1.13.0 in /usr/local/lib/python3.6/dist-packages (from yellowbrick) (1.19.5)\n",
            "Requirement already satisfied, skipping upgrade: matplotlib!=3.0.0,>=2.0.2 in /usr/local/lib/python3.6/dist-packages (from yellowbrick) (3.2.2)\n",
            "Requirement already satisfied, skipping upgrade: cycler>=0.10.0 in /usr/local/lib/python3.6/dist-packages (from yellowbrick) (0.10.0)\n",
            "Requirement already satisfied, skipping upgrade: scipy<1.6,>=1.0.0 in /usr/local/lib/python3.6/dist-packages (from yellowbrick) (1.4.1)\n",
            "Requirement already satisfied, skipping upgrade: scikit-learn<0.24,>=0.20 in /usr/local/lib/python3.6/dist-packages (from yellowbrick) (0.22.2.post1)\n",
            "Requirement already satisfied, skipping upgrade: kiwisolver>=1.0.1 in /usr/local/lib/python3.6/dist-packages (from matplotlib!=3.0.0,>=2.0.2->yellowbrick) (1.3.1)\n",
            "Requirement already satisfied, skipping upgrade: pyparsing!=2.0.4,!=2.1.2,!=2.1.6,>=2.0.1 in /usr/local/lib/python3.6/dist-packages (from matplotlib!=3.0.0,>=2.0.2->yellowbrick) (2.4.7)\n",
            "Requirement already satisfied, skipping upgrade: python-dateutil>=2.1 in /usr/local/lib/python3.6/dist-packages (from matplotlib!=3.0.0,>=2.0.2->yellowbrick) (2.8.1)\n",
            "Requirement already satisfied, skipping upgrade: six in /usr/local/lib/python3.6/dist-packages (from cycler>=0.10.0->yellowbrick) (1.15.0)\n",
            "Requirement already satisfied, skipping upgrade: joblib>=0.11 in /usr/local/lib/python3.6/dist-packages (from scikit-learn<0.24,>=0.20->yellowbrick) (1.0.0)\n",
            "Installing collected packages: yellowbrick\n",
            "  Found existing installation: yellowbrick 0.9.1\n",
            "    Uninstalling yellowbrick-0.9.1:\n",
            "      Successfully uninstalled yellowbrick-0.9.1\n",
            "Successfully installed yellowbrick-1.2.1\n"
          ],
          "name": "stdout"
        }
      ]
    },
    {
      "cell_type": "code",
      "metadata": {
        "id": "F-9Qi38g0hss",
        "colab": {
          "base_uri": "https://localhost:8080/",
          "height": 472
        },
        "outputId": "1b6c59f8-0db6-468f-87af-b72239ccf654"
      },
      "source": [
        "# Import the Yellowbrick Feature Importance visualizer\r\n",
        "from yellowbrick.model_selection import FeatureImportances\r\n",
        "model = RandomForestRegressor()\r\n",
        "viz = FeatureImportances(model)\r\n",
        "viz.fit(train_X, train_y)\r\n",
        "viz.show()"
      ],
      "execution_count": null,
      "outputs": [
        {
          "output_type": "stream",
          "text": [
            "/usr/local/lib/python3.6/dist-packages/sklearn/base.py:197: FutureWarning: From version 0.24, get_params will raise an AttributeError if a parameter cannot be retrieved as an instance attribute. Previously it would return None.\n",
            "  FutureWarning)\n"
          ],
          "name": "stderr"
        },
        {
          "output_type": "display_data",
          "data": {
            "image/png": "[encoded data removed]",
            "text/plain": [
              "<Figure size 576x396 with 1 Axes>"
            ]
          },
          "metadata": {
            "tags": []
          }
        },
        {
          "output_type": "execute_result",
          "data": {
            "text/plain": [
              "<matplotlib.axes._subplots.AxesSubplot at 0x7f841ff1dd68>"
            ]
          },
          "metadata": {
            "tags": []
          },
          "execution_count": 18
        }
      ]
    },
    {
      "cell_type": "markdown",
      "metadata": {
        "id": "gPPNGWmGRUZl"
      },
      "source": [
        " The plot above shows that the features `mode`and `explicit` are not really important to the model. However, because they contribute (a little) to the reduction of the Mean Absolute Error of my models, I will not drop them."
      ]
    },
    {
      "cell_type": "markdown",
      "metadata": {
        "id": "8uzC-nOEZAdw"
      },
      "source": [
        "### Approach 1: Using Decision Trees"
      ]
    },
    {
      "cell_type": "code",
      "metadata": {
        "id": "YH_twg_m4WJm",
        "colab": {
          "base_uri": "https://localhost:8080/"
        },
        "outputId": "3f193dc4-3f9d-4753-e0fc-631f620d2b94"
      },
      "source": [
        "dec_tree = DecisionTreeRegressor(random_state=0)\r\n",
        "dec_tree.fit(train_X, train_y)"
      ],
      "execution_count": null,
      "outputs": [
        {
          "output_type": "execute_result",
          "data": {
            "text/plain": [
              "DecisionTreeRegressor(ccp_alpha=0.0, criterion='mse', max_depth=None,\n",
              "                      max_features=None, max_leaf_nodes=None,\n",
              "                      min_impurity_decrease=0.0, min_impurity_split=None,\n",
              "                      min_samples_leaf=1, min_samples_split=2,\n",
              "                      min_weight_fraction_leaf=0.0, presort='deprecated',\n",
              "                      random_state=0, splitter='best')"
            ]
          },
          "metadata": {
            "tags": []
          },
          "execution_count": 19
        }
      ]
    },
    {
      "cell_type": "code",
      "metadata": {
        "id": "CejuwMMPoEoF",
        "colab": {
          "base_uri": "https://localhost:8080/"
        },
        "outputId": "d1778fa0-d4b7-4e62-ee49-879508c24e8e"
      },
      "source": [
        "val_preds1 = dec_tree.predict(test_X)\n",
        "val_mae1 = mean_absolute_error(test_y, val_preds1)\n",
        "print(f'Mean absolute error of this model: {val_mae1:.3f}')\n",
        " \n",
        "# print(f'Training Coefficient of R^2 : {dec_tree.score(train_X, train_y):.2f}')\n",
        "# print(f'Test Coefficient of R^2 : {dec_tree.score(test_X, test_y):.2f}')"
      ],
      "execution_count": null,
      "outputs": [
        {
          "output_type": "stream",
          "text": [
            "Mean absolute error of this model: 9.196\n"
          ],
          "name": "stdout"
        }
      ]
    },
    {
      "cell_type": "markdown",
      "metadata": {
        "id": "0ddPIjJs4RR9"
      },
      "source": [
        "#### Using Grid Search to tune the hyperparameters\n",
        "In the next three cells I will be using GridSearchCV to find the optimal hyperparameters for the decision tree to predict song popularity."
      ]
    },
    {
      "cell_type": "code",
      "metadata": {
        "id": "5O8I9Un8ldNP",
        "colab": {
          "base_uri": "https://localhost:8080/"
        },
        "outputId": "b8e06889-0aed-4bc0-f49c-8e58f0c4ceae"
      },
      "source": [
        "# Import the GridSearchCV module\r\n",
        "from sklearn.model_selection import GridSearchCV\r\n",
        "print('Imports successful')"
      ],
      "execution_count": null,
      "outputs": [
        {
          "output_type": "stream",
          "text": [
            "Imports successful\n"
          ],
          "name": "stdout"
        }
      ]
    },
    {
      "cell_type": "code",
      "metadata": {
        "id": "WIUVT0abrTYM",
        "colab": {
          "base_uri": "https://localhost:8080/"
        },
        "outputId": "4dfc834e-2275-4a19-a433-3f685443fb91"
      },
      "source": [
        "n_features = X.shape[1]\n",
        "n_samples = X.shape[0]\n",
        " \n",
        "grid = GridSearchCV(DecisionTreeRegressor(random_state=0), cv=3, n_jobs=-1, verbose=5,\n",
        "                    param_grid ={\n",
        "                    'max_depth': [None,1,2,3,4,5,6,7],\n",
        "                    'max_features': [None, 'sqrt', 'auto', 'log2', 0.3,0.5,0.7, n_features//2, n_features//3, ],\n",
        "                    'min_samples_split': [2,0.3,0.5, n_samples//2, n_samples//3, n_samples//5],\n",
        "                    'min_samples_leaf':[1, 0.3,0.5, n_samples//2, n_samples//3, n_samples//5]},\n",
        "                    )\n",
        " \n",
        "grid.fit(train_X, train_y)\n",
        "print('Train R^2 Score : %.3f'%grid.best_estimator_.score(train_X, train_y))\n",
        "print('Test R^2 Score : %.3f'%grid.best_estimator_.score(test_X, test_y))\n",
        "print('Best R^2 Score Through Grid Search : %.3f'%grid.best_score_)\n",
        "print('Best Parameters : ',grid.best_params_)"
      ],
      "execution_count": null,
      "outputs": [
        {
          "output_type": "stream",
          "text": [
            "Fitting 3 folds for each of 2592 candidates, totalling 7776 fits\n"
          ],
          "name": "stdout"
        },
        {
          "output_type": "stream",
          "text": [
            "[Parallel(n_jobs=-1)]: Using backend LokyBackend with 2 concurrent workers.\n",
            "[Parallel(n_jobs=-1)]: Done  14 tasks      | elapsed:    9.0s\n",
            "[Parallel(n_jobs=-1)]: Done  90 tasks      | elapsed:   14.2s\n",
            "[Parallel(n_jobs=-1)]: Done 310 tasks      | elapsed:   34.2s\n",
            "[Parallel(n_jobs=-1)]: Done 665 tasks      | elapsed:  1.0min\n",
            "[Parallel(n_jobs=-1)]: Done 1036 tasks      | elapsed:  1.4min\n",
            "[Parallel(n_jobs=-1)]: Done 1828 tasks      | elapsed:  2.0min\n",
            "[Parallel(n_jobs=-1)]: Done 2696 tasks      | elapsed:  2.8min\n",
            "[Parallel(n_jobs=-1)]: Done 3610 tasks      | elapsed:  3.7min\n",
            "[Parallel(n_jobs=-1)]: Done 4418 tasks      | elapsed:  4.4min\n",
            "[Parallel(n_jobs=-1)]: Done 5102 tasks      | elapsed:  5.2min\n",
            "[Parallel(n_jobs=-1)]: Done 5858 tasks      | elapsed:  6.0min\n",
            "[Parallel(n_jobs=-1)]: Done 6686 tasks      | elapsed:  6.8min\n",
            "[Parallel(n_jobs=-1)]: Done 7586 tasks      | elapsed:  7.8min\n",
            "[Parallel(n_jobs=-1)]: Done 7776 out of 7776 | elapsed:  8.0min finished\n"
          ],
          "name": "stderr"
        },
        {
          "output_type": "stream",
          "text": [
            "Train R^2 Score : 0.797\n",
            "Test R^2 Score : 0.797\n",
            "Best R^2 Score Through Grid Search : 0.792\n",
            "Best Parameters :  {'max_depth': 7, 'max_features': None, 'min_samples_leaf': 1, 'min_samples_split': 2}\n"
          ],
          "name": "stdout"
        }
      ]
    },
    {
      "cell_type": "markdown",
      "metadata": {
        "id": "5a6je2JavdS-"
      },
      "source": [
        "##### The tuned decision tree model: GridSearchCV\r\n",
        "\r\n"
      ]
    },
    {
      "cell_type": "code",
      "metadata": {
        "id": "RO4LFOmYvDXI",
        "colab": {
          "base_uri": "https://localhost:8080/"
        },
        "outputId": "be69fec0-3ec3-4b63-a1aa-15d86c36c09e"
      },
      "source": [
        "# Decision tree with tuned hyperparameters using GridSearchCV\r\n",
        "dec_tree2 = DecisionTreeRegressor(max_depth=7, max_features=None, \r\n",
        "                                  min_samples_leaf=1, min_samples_split=2, random_state=0)\r\n",
        "dec_tree2.fit(train_X, train_y)\r\n",
        "val_preds2 = dec_tree2.predict(test_X)\r\n",
        "val_mae2 = mean_absolute_error(test_y, val_preds2)\r\n",
        "print(f'Mean absolute error of this model: {val_mae2:.3f}')"
      ],
      "execution_count": null,
      "outputs": [
        {
          "output_type": "stream",
          "text": [
            "Mean absolute error of this model: 6.942\n"
          ],
          "name": "stdout"
        }
      ]
    },
    {
      "cell_type": "markdown",
      "metadata": {
        "id": "WfJFPbG5dddj"
      },
      "source": [
        "#### Tweaking just the max_leaf_nodes argument\n",
        "I get better results from just tweaking the max_leaf_nodes argument than from running GridSearchCV (my guess is I didn't have the right parameters for it)."
      ]
    },
    {
      "cell_type": "code",
      "metadata": {
        "id": "uJpfPm9uVJ8w"
      },
      "source": [
        "# This function returns the mean absolute error (MAE) of a decision tree\n",
        "# given the max_leaf_nodes argument, the train dataset and the test dataset\n",
        " \n",
        "def return_mae(mln, train_X, val_X, train_y, val_y):\n",
        "  music_model = DecisionTreeRegressor(max_leaf_nodes=mln, random_state=0)\n",
        "  music_model.fit(train_X, train_y)\n",
        "  pred_y = music_model.predict(val_X)\n",
        "  mae = mean_absolute_error(val_y, pred_y)\n",
        "  return mae"
      ],
      "execution_count": null,
      "outputs": []
    },
    {
      "cell_type": "code",
      "metadata": {
        "id": "B5p3DgE2XLpK",
        "colab": {
          "base_uri": "https://localhost:8080/"
        },
        "outputId": "1f8df540-2af2-4323-9058-2bf8b64983ea"
      },
      "source": [
        "# This cell runs the return_mae function on a range of max_leaf_node values and returns the best MLN\n",
        " \n",
        "mln_values = range(5,1000,50) #max leaf nodes for consideration\n",
        " \n",
        "mln_dict = {x:return_mae(x, train_X, test_X, train_y, test_y) for x in mln_values}\n",
        "best_mln = min(mln_dict, key=mln_dict.get)\n",
        " \n",
        "print('max_leaf_node values and their Mean Absolute Error values:')\n",
        "for mln in mln_dict:\n",
        "  print(f'{mln:-<6}{mln_dict[mln]:.4f}')\n",
        "print(f'\\nBest value for max_leaf_nodes : {best_mln}')"
      ],
      "execution_count": null,
      "outputs": [
        {
          "output_type": "stream",
          "text": [
            "max_leaf_node values and their Mean Absolute Error values:\n",
            "5-----7.5902\n",
            "55----6.9457\n",
            "105---6.8681\n",
            "155---6.8365\n",
            "205---6.8292\n",
            "255---6.8383\n",
            "305---6.8305\n",
            "355---6.8306\n",
            "405---6.8297\n",
            "455---6.8432\n",
            "505---6.8419\n",
            "555---6.8389\n",
            "605---6.8559\n",
            "655---6.8682\n",
            "705---6.8804\n",
            "755---6.8873\n",
            "805---6.8932\n",
            "855---6.8997\n",
            "905---6.9040\n",
            "955---6.9069\n",
            "\n",
            "Best value for max_leaf_nodes : 205\n"
          ],
          "name": "stdout"
        }
      ]
    },
    {
      "cell_type": "markdown",
      "metadata": {
        "id": "0FzosSj6puOE"
      },
      "source": [
        "##### The tuned decision tree model: max_leaf_nodes"
      ]
    },
    {
      "cell_type": "code",
      "metadata": {
        "id": "5w17iq47dXZC",
        "colab": {
          "base_uri": "https://localhost:8080/"
        },
        "outputId": "de6e12c2-018f-42b9-a8f6-a977cc515295"
      },
      "source": [
        "# Decision tree with tuned max_leaf_node using get_mae()\n",
        "dec_tree3 = DecisionTreeRegressor(max_leaf_nodes=best_mln, random_state=0)\n",
        "dec_tree3.fit(train_X, train_y)\n",
        "val_preds3 = dec_tree3.predict(test_X)\n",
        "val_mae3 = mean_absolute_error(test_y, val_preds3)\n",
        "print(f'Mean absolute error of this model: {val_mae3:.3f}')"
      ],
      "execution_count": null,
      "outputs": [
        {
          "output_type": "stream",
          "text": [
            "Mean absolute error of this model: 6.829\n"
          ],
          "name": "stdout"
        }
      ]
    },
    {
      "cell_type": "markdown",
      "metadata": {
        "id": "f-LC0S5YZGQw"
      },
      "source": [
        "### Approach 2: Using Random Forest"
      ]
    },
    {
      "cell_type": "code",
      "metadata": {
        "id": "IGKPNZzWZKI0",
        "colab": {
          "base_uri": "https://localhost:8080/"
        },
        "outputId": "3d4403f3-03bd-448e-d58d-153b1b90f85f"
      },
      "source": [
        "rf_model = RandomForestRegressor(random_state=0)\r\n",
        "rf_model.fit(train_X, train_y)"
      ],
      "execution_count": null,
      "outputs": [
        {
          "output_type": "execute_result",
          "data": {
            "text/plain": [
              "RandomForestRegressor(bootstrap=True, ccp_alpha=0.0, criterion='mse',\n",
              "                      max_depth=None, max_features='auto', max_leaf_nodes=None,\n",
              "                      max_samples=None, min_impurity_decrease=0.0,\n",
              "                      min_impurity_split=None, min_samples_leaf=1,\n",
              "                      min_samples_split=2, min_weight_fraction_leaf=0.0,\n",
              "                      n_estimators=100, n_jobs=None, oob_score=False,\n",
              "                      random_state=0, verbose=0, warm_start=False)"
            ]
          },
          "metadata": {
            "tags": []
          },
          "execution_count": 27
        }
      ]
    },
    {
      "cell_type": "code",
      "metadata": {
        "id": "S3ffRjEUbRxp",
        "colab": {
          "base_uri": "https://localhost:8080/"
        },
        "outputId": "1513b168-81ee-4740-8d01-230454f548f6"
      },
      "source": [
        "val_preds4 = rf_model.predict(test_X)\n",
        "val_mae4 = mean_absolute_error(test_y, val_preds4)\n",
        "print(f'Mean absolute error of this model: {val_mae4:.3f}')"
      ],
      "execution_count": null,
      "outputs": [
        {
          "output_type": "stream",
          "text": [
            "Mean absolute error of this model: 6.750\n"
          ],
          "name": "stdout"
        }
      ]
    },
    {
      "cell_type": "markdown",
      "metadata": {
        "id": "9cGtduudWgpu"
      },
      "source": [
        "## Observations and Summary\n",
        "In the course of this project, I have completed the objectives I intended to check off:\n",
        "- The oldest year in consideration in the dataset is **1921**.\n",
        "- The most popular song in the dataset is **Dakiti** by **Bad Bunny** & **Jhay Cortez**. The next two popular songs are **Mood** by **24kGoldn** & **Iann Dior** and **Dynamite** by **BTS**.\n",
        "- The five best predictors of popularity in order of importance are\n",
        "  - year;\n",
        "  - song duration (the scale of the regression plot of `popularity` against `duration_ms` may be confusing, but it shows that most songs are shorter than 16 minutes and that the longer a song is, the more popular it is. (Untrained opinion: this is given the song is less than 16 minutes.);\n",
        "  - loudness; \n",
        "  - danceability;\n",
        "  - speechiness; and\n",
        "  - acousticness.\n",
        " \n",
        "Furthermore, I attempted different   models in order to get one with a favorable Mean Absolute Error.  \n",
        " \n",
        "Here are the models with their Mean Absolute Error (MAE):  \n",
        " \n",
        "Model | MAE\n",
        "--- | ---\n",
        "Simple decision tree | 9.196\n",
        "Decision tree (GridSearchCV) | 6.942  \n",
        "Decision tree (max_leaf_nodes) | 6.829  \n",
        "Random Forest | 6.750  \n",
        " \n",
        "*Note: These insights are based on the version of the dataset I am currently working with. If I use an updated  version of the dataset in the future,  I should update these insights too.*"
      ]
    }
  ]
}